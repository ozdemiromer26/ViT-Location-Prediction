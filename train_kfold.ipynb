{
 "cells": [
  {
   "cell_type": "code",
   "execution_count": 31,
   "metadata": {},
   "outputs": [],
   "source": [
    "import torch\n",
    "from torch.utils.data import Dataset, DataLoader, random_split, Subset\n",
    "from torchvision import transforms, models\n",
    "from torch import nn, optim\n",
    "from PIL import Image\n",
    "import pandas as pd\n",
    "import numpy as np\n",
    "from tqdm.notebook import tqdm\n",
    "import os\n",
    "from torchvision.transforms import InterpolationMode\n",
    "from sklearn.model_selection import KFold"
   ]
  },
  {
   "cell_type": "code",
   "execution_count": 32,
   "metadata": {},
   "outputs": [],
   "source": [
    "\"\"\"## Configurations\"\"\"\n",
    "\n",
    "# Hyperparameter configuration class\n",
    "class Config:\n",
    "    BATCH_SIZE = 32  # Optimized batch size\n",
    "    NUM_WORKERS = os.cpu_count() // 2\n",
    "    IMG_SIZE = (512, 512)\n",
    "    LEARNING_RATE = 1e-2  # Adjusted learning rate for CosineAnnealingLR\n",
    "    DROPOUT = 0.3  # Adjusted dropout for better generalization\n",
    "    NUM_NEURONS = 512  # Increased neurons in dense layer\n",
    "    EPOCHS_FEATURE_EXTRACTION = 8\n",
    "    EPOCHS_FINE_TUNING = 22\n",
    "    FINE_TUNE_LR = 1e-3  # Adjusted fine-tuning learning rate\n",
    "    WEIGHT_DECAY = 1e-2\n",
    "    DEVICE = torch.device(\"cuda\" if torch.cuda.is_available() else \"cpu\")\n",
    "    MODEL_SAVE_PATH = \"best_model_vit_l.pth\"\n",
    "    NUM_FOLDS = 3  # Cross-validation folds"
   ]
  },
  {
   "cell_type": "code",
   "execution_count": 33,
   "metadata": {},
   "outputs": [],
   "source": [
    "\"\"\"# Create Data Loader and Preprocessing\"\"\"\n",
    "\n",
    "class CampusDataset(Dataset):\n",
    "    def __init__(self, data, img_dir, transform=None):\n",
    "        self.data = data.reset_index(drop=True)  # Ensure indices match the Subset\n",
    "        self.img_dir = img_dir\n",
    "        self.transform = transform\n",
    "\n",
    "    def __len__(self):\n",
    "        return len(self.data)\n",
    "\n",
    "    def __getitem__(self, idx):\n",
    "        img_path = f\"{self.img_dir}/{self.data.iloc[idx]['filename']}\"\n",
    "        image = Image.open(img_path).convert(\"RGB\")\n",
    "        latitude = self.data.iloc[idx][\"latitude\"]\n",
    "        longitude = self.data.iloc[idx][\"longitude\"]\n",
    "\n",
    "        if self.transform:\n",
    "            image = self.transform(image)\n",
    "\n",
    "        target = torch.tensor([latitude, longitude], dtype=torch.float32)\n",
    "        return image, target"
   ]
  },
  {
   "cell_type": "code",
   "execution_count": 34,
   "metadata": {},
   "outputs": [],
   "source": [
    "# Data augmentations\n",
    "train_transform = transforms.Compose([\n",
    "    transforms.RandomRotation(degrees=2),\n",
    "    transforms.ColorJitter(brightness=0.2, contrast=0.2, saturation=0.2, hue=0.1),\n",
    "    transforms.ToTensor(),\n",
    "    transforms.Normalize(mean=[0.485, 0.456, 0.406], std=[0.229, 0.224, 0.225]),\n",
    "])\n",
    "\n",
    "val_transform = transforms.Compose([\n",
    "    transforms.ToTensor(),\n",
    "    transforms.Normalize(mean=[0.485, 0.456, 0.406], std=[0.229, 0.224, 0.225]),\n",
    "])\n",
    "\n",
    "csv_file = \"workspace/data_512/train.csv\"\n",
    "img_dir = \"workspace/data_512/train\"\n",
    "full_data = pd.read_csv(csv_file, sep=\";\")\n",
    "\n",
    "lat_min = full_data[\"latitude\"].min()\n",
    "lat_max = full_data[\"latitude\"].max()\n",
    "lon_min = full_data[\"longitude\"].min()\n",
    "lon_max = full_data[\"longitude\"].max()"
   ]
  },
  {
   "cell_type": "code",
   "execution_count": 35,
   "metadata": {},
   "outputs": [],
   "source": [
    "\"\"\"# Model arch\"\"\"\n",
    "\n",
    "class LatitudeLongitudeModel(nn.Module):\n",
    "    def __init__(self):\n",
    "        super(LatitudeLongitudeModel, self).__init__()\n",
    "        self.base_model = models.vit_l_16(weights=models.ViT_L_16_Weights.IMAGENET1K_SWAG_E2E_V1)\n",
    "\n",
    "        self.base_model.heads = nn.Sequential(\n",
    "            nn.Linear(self.base_model.heads.head.in_features, Config.NUM_NEURONS),\n",
    "            nn.LeakyReLU(),\n",
    "            nn.Dropout(Config.DROPOUT),\n",
    "            nn.Linear(Config.NUM_NEURONS, 2)\n",
    "        )\n",
    "\n",
    "    def forward(self, x):\n",
    "        return self.base_model(x)"
   ]
  },
  {
   "cell_type": "code",
   "execution_count": 36,
   "metadata": {},
   "outputs": [],
   "source": [
    "\"\"\"## RMSEHaversineLoss Loss\"\"\"\n",
    "\n",
    "class RMSEHaversineLoss(nn.Module):\n",
    "    def __init__(self):\n",
    "        super(RMSEHaversineLoss, self).__init__()\n",
    "        self.earth_radius = 6371\n",
    "\n",
    "    def forward(self, preds, targets):\n",
    "        lat1, lon1 = preds[:, 0] * (torch.pi / 180), preds[:, 1] * (torch.pi / 180)\n",
    "        lat2, lon2 = targets[:, 0] * (torch.pi / 180), targets[:, 1] * (torch.pi / 180)\n",
    "\n",
    "        dlat = lat2 - lat1\n",
    "        dlon = lon2 - lon1\n",
    "        a = torch.sin(dlat / 2) ** 2 + torch.cos(lat1) * torch.cos(lat2) * torch.sin(dlon / 2) ** 2\n",
    "        c = 2 * torch.asin(torch.sqrt(torch.clamp(a, 0, 1)))\n",
    "\n",
    "        distances = self.earth_radius * c\n",
    "        rmse = torch.sqrt(torch.mean(distances ** 2))\n",
    "        return rmse"
   ]
  },
  {
   "cell_type": "code",
   "execution_count": 37,
   "metadata": {},
   "outputs": [],
   "source": [
    "\"\"\"## Training and Cross-Validation\"\"\"\n",
    "\n",
    "def denormalize_outputs(normalized_outputs, lat_min, lat_max, lon_min, lon_max):\n",
    "    denormalized_outputs = torch.empty_like(normalized_outputs)\n",
    "    denormalized_outputs[:, 0] = normalized_outputs[:, 0] * (lat_max - lat_min) + lat_min\n",
    "    denormalized_outputs[:, 1] = normalized_outputs[:, 1] * (lon_max - lon_min) + lon_min\n",
    "    return denormalized_outputs\n",
    "\n",
    "def train_one_epoch(model, dataloader, criterion, optimizer, lat_min, lat_max, lon_min, lon_max):\n",
    "    model.train()\n",
    "    epoch_loss = 0\n",
    "    for images, targets in tqdm(dataloader, desc=\"Training Epoch\"):\n",
    "        images, targets = images.to(Config.DEVICE), targets.to(Config.DEVICE)\n",
    "        optimizer.zero_grad()\n",
    "        normalized_outputs = model(images)\n",
    "        denormalized_outputs = denormalize_outputs(normalized_outputs, lat_min, lat_max, lon_min, lon_max)\n",
    "        loss = criterion(denormalized_outputs, targets)\n",
    "        loss.backward()\n",
    "        optimizer.step()\n",
    "        epoch_loss += loss.item()\n",
    "    return epoch_loss / len(dataloader)\n",
    "\n",
    "def validate(model, dataloader, criterion, lat_min, lat_max, lon_min, lon_max):\n",
    "    model.eval()\n",
    "    epoch_loss = 0\n",
    "    with torch.no_grad():\n",
    "        for images, targets in tqdm(dataloader, desc=\"Validation Epoch\"):\n",
    "            images, targets = images.to(Config.DEVICE), targets.to(Config.DEVICE)\n",
    "            normalized_outputs = model(images)\n",
    "            denormalized_outputs = denormalize_outputs(normalized_outputs, lat_min, lat_max, lon_min, lon_max)\n",
    "            loss = criterion(denormalized_outputs, targets)\n",
    "            epoch_loss += loss.item()\n",
    "    return epoch_loss / len(dataloader)"
   ]
  },
  {
   "cell_type": "code",
   "execution_count": null,
   "metadata": {},
   "outputs": [],
   "source": []
  },
  {
   "cell_type": "code",
   "execution_count": 38,
   "metadata": {},
   "outputs": [
    {
     "name": "stdout",
     "output_type": "stream",
     "text": [
      "Starting Fold 1/3\n"
     ]
    },
    {
     "name": "stderr",
     "output_type": "stream",
     "text": [
      "/tmp/ipykernel_3258/1483461025.py:30: FutureWarning: You are using `torch.load` with `weights_only=False` (the current default value), which uses the default pickle module implicitly. It is possible to construct malicious pickle data which will execute arbitrary code during unpickling (See https://github.com/pytorch/pytorch/blob/main/SECURITY.md#untrusted-models for more details). In a future release, the default value for `weights_only` will be flipped to `True`. This limits the functions that could be executed during unpickling. Arbitrary objects will no longer be allowed to be loaded via this mode unless they are explicitly allowlisted by the user via `torch.serialization.add_safe_globals`. We recommend you start setting `weights_only=True` for any use case where you don't have full control of the loaded file. Please open an issue on GitHub for any issues related to this experimental feature.\n",
      "  model.load_state_dict(torch.load(\"workspace/best_model_fold_1.pth\"))  # Load the best model\n"
     ]
    },
    {
     "data": {
      "application/vnd.jupyter.widget-view+json": {
       "model_id": "988de1f94d234a4380dc8a472a2739e7",
       "version_major": 2,
       "version_minor": 0
      },
      "text/plain": [
       "Training Epoch:   0%|          | 0/92 [00:00<?, ?it/s]"
      ]
     },
     "metadata": {},
     "output_type": "display_data"
    },
    {
     "data": {
      "application/vnd.jupyter.widget-view+json": {
       "model_id": "295cc89a9d694e6a928f59a51ff01c09",
       "version_major": 2,
       "version_minor": 0
      },
      "text/plain": [
       "Validation Epoch:   0%|          | 0/46 [00:00<?, ?it/s]"
      ]
     },
     "metadata": {},
     "output_type": "display_data"
    },
    {
     "name": "stdout",
     "output_type": "stream",
     "text": [
      "Model saved for fold 1 at epoch 1 with validation loss: 0.4757\n",
      "Fold 1 - Epoch 1, Train Loss: 1.4128, Validation Loss: 0.4757\n"
     ]
    },
    {
     "data": {
      "application/vnd.jupyter.widget-view+json": {
       "model_id": "327ce7764ddd49278c36f20bb76be1fe",
       "version_major": 2,
       "version_minor": 0
      },
      "text/plain": [
       "Training Epoch:   0%|          | 0/92 [00:00<?, ?it/s]"
      ]
     },
     "metadata": {},
     "output_type": "display_data"
    },
    {
     "data": {
      "application/vnd.jupyter.widget-view+json": {
       "model_id": "b977850fe6334788b75a631954b0fda4",
       "version_major": 2,
       "version_minor": 0
      },
      "text/plain": [
       "Validation Epoch:   0%|          | 0/46 [00:00<?, ?it/s]"
      ]
     },
     "metadata": {},
     "output_type": "display_data"
    },
    {
     "name": "stdout",
     "output_type": "stream",
     "text": [
      "Fold 1 - Epoch 2, Train Loss: 0.5252, Validation Loss: 0.5042\n"
     ]
    },
    {
     "data": {
      "application/vnd.jupyter.widget-view+json": {
       "model_id": "f7153fc0b9dc48f8893627a4a1d39fd1",
       "version_major": 2,
       "version_minor": 0
      },
      "text/plain": [
       "Training Epoch:   0%|          | 0/92 [00:00<?, ?it/s]"
      ]
     },
     "metadata": {},
     "output_type": "display_data"
    },
    {
     "data": {
      "application/vnd.jupyter.widget-view+json": {
       "model_id": "c2e49ee9f366420d84b127eb36fa8b05",
       "version_major": 2,
       "version_minor": 0
      },
      "text/plain": [
       "Validation Epoch:   0%|          | 0/46 [00:00<?, ?it/s]"
      ]
     },
     "metadata": {},
     "output_type": "display_data"
    },
    {
     "name": "stdout",
     "output_type": "stream",
     "text": [
      "Fold 1 - Epoch 3, Train Loss: 0.5763, Validation Loss: 0.4866\n"
     ]
    },
    {
     "data": {
      "application/vnd.jupyter.widget-view+json": {
       "model_id": "07faf47ac72f4048bc89f50e57c2c714",
       "version_major": 2,
       "version_minor": 0
      },
      "text/plain": [
       "Training Epoch:   0%|          | 0/92 [00:00<?, ?it/s]"
      ]
     },
     "metadata": {},
     "output_type": "display_data"
    },
    {
     "ename": "KeyboardInterrupt",
     "evalue": "",
     "output_type": "error",
     "traceback": [
      "\u001b[0;31m---------------------------------------------------------------------------\u001b[0m",
      "\u001b[0;31mKeyboardInterrupt\u001b[0m                         Traceback (most recent call last)",
      "Cell \u001b[0;32mIn[38], line 39\u001b[0m\n\u001b[1;32m     36\u001b[0m best_val_loss \u001b[38;5;241m=\u001b[39m \u001b[38;5;28mfloat\u001b[39m(\u001b[38;5;124m'\u001b[39m\u001b[38;5;124minf\u001b[39m\u001b[38;5;124m'\u001b[39m)\n\u001b[1;32m     38\u001b[0m \u001b[38;5;28;01mfor\u001b[39;00m epoch \u001b[38;5;129;01min\u001b[39;00m \u001b[38;5;28mrange\u001b[39m(Config\u001b[38;5;241m.\u001b[39mEPOCHS_FEATURE_EXTRACTION \u001b[38;5;241m+\u001b[39m Config\u001b[38;5;241m.\u001b[39mEPOCHS_FINE_TUNING):\n\u001b[0;32m---> 39\u001b[0m     train_loss \u001b[38;5;241m=\u001b[39m \u001b[43mtrain_one_epoch\u001b[49m\u001b[43m(\u001b[49m\u001b[43mmodel\u001b[49m\u001b[43m,\u001b[49m\u001b[43m \u001b[49m\u001b[43mtrain_loader\u001b[49m\u001b[43m,\u001b[49m\u001b[43m \u001b[49m\u001b[43mcriterion\u001b[49m\u001b[43m,\u001b[49m\u001b[43m \u001b[49m\u001b[43moptimizer\u001b[49m\u001b[43m,\u001b[49m\u001b[43m \u001b[49m\u001b[43mlat_min\u001b[49m\u001b[43m,\u001b[49m\u001b[43m \u001b[49m\u001b[43mlat_max\u001b[49m\u001b[43m,\u001b[49m\u001b[43m \u001b[49m\u001b[43mlon_min\u001b[49m\u001b[43m,\u001b[49m\u001b[43m \u001b[49m\u001b[43mlon_max\u001b[49m\u001b[43m)\u001b[49m\n\u001b[1;32m     40\u001b[0m     val_loss \u001b[38;5;241m=\u001b[39m validate(model, val_loader, criterion, lat_min, lat_max, lon_min, lon_max)\n\u001b[1;32m     42\u001b[0m     \u001b[38;5;28;01mif\u001b[39;00m val_loss \u001b[38;5;241m<\u001b[39m best_val_loss:\n",
      "Cell \u001b[0;32mIn[37], line 20\u001b[0m, in \u001b[0;36mtrain_one_epoch\u001b[0;34m(model, dataloader, criterion, optimizer, lat_min, lat_max, lon_min, lon_max)\u001b[0m\n\u001b[1;32m     18\u001b[0m     loss\u001b[38;5;241m.\u001b[39mbackward()\n\u001b[1;32m     19\u001b[0m     optimizer\u001b[38;5;241m.\u001b[39mstep()\n\u001b[0;32m---> 20\u001b[0m     epoch_loss \u001b[38;5;241m+\u001b[39m\u001b[38;5;241m=\u001b[39m \u001b[43mloss\u001b[49m\u001b[38;5;241;43m.\u001b[39;49m\u001b[43mitem\u001b[49m\u001b[43m(\u001b[49m\u001b[43m)\u001b[49m\n\u001b[1;32m     21\u001b[0m \u001b[38;5;28;01mreturn\u001b[39;00m epoch_loss \u001b[38;5;241m/\u001b[39m \u001b[38;5;28mlen\u001b[39m(dataloader)\n",
      "\u001b[0;31mKeyboardInterrupt\u001b[0m: "
     ]
    }
   ],
   "source": [
    "\"\"\"## Cross-Validation Loop\"\"\"\n",
    "\n",
    "kf = KFold(n_splits=Config.NUM_FOLDS, shuffle=True, random_state=42)\n",
    "fold_results = []\n",
    "\n",
    "for fold, (train_idx, val_idx) in enumerate(kf.split(full_data)):\n",
    "    print(f\"Starting Fold {fold+1}/{Config.NUM_FOLDS}\")\n",
    "    train_data = full_data.iloc[train_idx].reset_index(drop=True)\n",
    "    val_data = full_data.iloc[val_idx].reset_index(drop=True)\n",
    "\n",
    "    train_dataset = CampusDataset(train_data, img_dir, transform=train_transform)\n",
    "    val_dataset = CampusDataset(val_data, img_dir, transform=val_transform)\n",
    "\n",
    "    train_loader = DataLoader(train_dataset, batch_size=Config.BATCH_SIZE, shuffle=True, num_workers=Config.NUM_WORKERS)\n",
    "    val_loader = DataLoader(val_dataset, batch_size=Config.BATCH_SIZE, shuffle=False, num_workers=Config.NUM_WORKERS)\n",
    "\n",
    "    model = LatitudeLongitudeModel().to(Config.DEVICE)\n",
    "    \n",
    "    # Freeze all layers except the classifier and the last 20% of layers\n",
    "    for param in model.base_model.parameters():\n",
    "        param.requires_grad = False\n",
    "\n",
    "    total_layers = len(list(model.base_model.encoder.layers))\n",
    "    unfrozen_layers = total_layers // 5  # Unfreeze last 20% of layers\n",
    "\n",
    "    for name, param in model.base_model.named_parameters():\n",
    "        if \"heads\" in name or any(f\"encoder.layers.{i}\" in name for i in range(total_layers - unfrozen_layers, total_layers)):\n",
    "            param.requires_grad = True\n",
    "\n",
    "    model.load_state_dict(torch.load(\"workspace/best_model_fold_1.pth\"))  # Load the best model\n",
    "\n",
    "    optimizer = optim.Adam(filter(lambda p: p.requires_grad, model.parameters()), lr=Config.LEARNING_RATE)\n",
    "    criterion = RMSEHaversineLoss().to(Config.DEVICE)\n",
    "    scheduler = optim.lr_scheduler.CosineAnnealingLR(optimizer, T_max=Config.EPOCHS_FEATURE_EXTRACTION + Config.EPOCHS_FINE_TUNING)\n",
    "\n",
    "    best_val_loss = float('inf')\n",
    "\n",
    "    for epoch in range(Config.EPOCHS_FEATURE_EXTRACTION + Config.EPOCHS_FINE_TUNING):\n",
    "        train_loss = train_one_epoch(model, train_loader, criterion, optimizer, lat_min, lat_max, lon_min, lon_max)\n",
    "        val_loss = validate(model, val_loader, criterion, lat_min, lat_max, lon_min, lon_max)\n",
    "\n",
    "        if val_loss < best_val_loss:\n",
    "            best_val_loss = val_loss\n",
    "            torch.save(model.state_dict(), f\"best_model_fold_{fold+1}.pth\")\n",
    "            print(f\"Model saved for fold {fold+1} at epoch {epoch+1} with validation loss: {val_loss:.4f}\")\n",
    "\n",
    "        print(f\"Fold {fold+1} - Epoch {epoch+1}, Train Loss: {train_loss:.4f}, Validation Loss: {val_loss:.4f}\")\n",
    "        scheduler.step()\n",
    "\n",
    "    fold_results.append(val_loss)\n",
    "\n",
    "print(f\"Cross-Validation Results: {fold_results}\")\n",
    "print(f\"Average Validation Loss: {np.mean(fold_results):.4f}\")"
   ]
  },
  {
   "cell_type": "code",
   "execution_count": null,
   "metadata": {},
   "outputs": [],
   "source": []
  }
 ],
 "metadata": {
  "kernelspec": {
   "display_name": "base",
   "language": "python",
   "name": "python3"
  },
  "language_info": {
   "codemirror_mode": {
    "name": "ipython",
    "version": 3
   },
   "file_extension": ".py",
   "mimetype": "text/x-python",
   "name": "python",
   "nbconvert_exporter": "python",
   "pygments_lexer": "ipython3",
   "version": "3.11.10"
  }
 },
 "nbformat": 4,
 "nbformat_minor": 2
}
